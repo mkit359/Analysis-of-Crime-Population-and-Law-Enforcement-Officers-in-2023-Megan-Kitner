import pandas as pd
import numpy as np
from pathlib import Path
import glob

fips = pd.read_csv("fips.csv")

NIBRS_dataset = {}

for file in Path().glob("NIBRS_*_2023.csv"):
    id = file.stem.split("_")[1]
    try:
        NIBRS_dataset[id] = pd.read_csv(file)
        print(f"Successful load of {file.name}")
    except Exception as e:
        print(f"Warning: {file.name} failed.")

print(NIBRS_dataset.keys())
 
## View tables to ensure they are displaying properly

fips.head()

NIBRS_dataset['08'].shape

NIBRS_dataset['08'].describe()
 
## Review values and ensure there are no outliers, or missing values.

NIBRS_dataset['08'].isnull().sum()
 
## Replace nulls with 0 and confirm.

NIBRS_dataset['08'] = NIBRS_dataset['08'].fillna(0)

NIBRS_dataset['08'].isnull().sum()

NIBRS_dataset['08']['State'].unique()
 
## Clean states

NIBRS_dataset['08'].replace('FLORIDA2','FLORIDA', inplace = True)
NIBRS_dataset['08']['State'].unique()
 
## Review and clean up any headers

NIBRS_dataset['08'].columns

NIBRS_dataset['08'].rename(columns ={ 'Violent\ncrime': 'Violent_Crime','Murder and\nnonnegligent\nmanslaughter' : 'Murder_and_Nonnegligent_Manslaughter', 'Aggravated\nassault' : 'Aggravated_Assault', 'Property\ncrime' : 'Property_Crime', 'Larceny-\ntheft' : 'Larcency_Theft', 'Motor\nvehicle\ntheft' : 'Motor_Vehicle_Theft', 'Arson1' :'Arson'}, inplace = True)

NIBRS_dataset['08'].columns
 
## Repeat process for rest of tables

NIBRS_dataset['10'].columns

NIBRS_dataset['10'].rename(columns={'Violent\ncrime': 'Violent_Crime', 'Murder and\nnonnegligent\nmanslaughter': 'Murder_and_Nonnegligent_Manslaughter', 'Aggravated\nassault': 'Aggravated_Assault', 'Property\ncrime': 'Property_Crime','Larceny-\ntheft': 'Larcency_Theft', 'Motor\nvehicle\ntheft': 'Motor_Vehicle_Theft', 'Arson1': 'Arson'}, inplace=True)

NIBRS_dataset['10'].columns

NIBRS_dataset['10'].describe()

NIBRS_dataset['10'].isnull().sum()

NIBRS_dataset['10'] = NIBRS_dataset['10'].fillna(0)

NIBRS_dataset['10'].isnull().sum()

NIBRS_dataset['10']['State'].unique()

NIBRS_dataset['10'][['State', 'County_Type']] = NIBRS_dataset['10']['State'].str.split(' - ', expand = True)

NIBRS_dataset['10'].columns

NIBRS_dataset['10'].head(2)

cols = list(NIBRS_dataset['10'].columns)
cols.remove('County_Type')

state_idx = cols.index('State')
cols.insert(state_idx + 1, 'County_Type')

NIBRS_dataset['10'] = NIBRS_dataset['10'][cols]
NIBRS_dataset['10'].head(2)

NIBRS_dataset['10']['State'].unique()

NIBRS_dataset['10'].replace('FLORIDA2','FLORIDA', inplace = True)
NIBRS_dataset['10']['State'].unique()

NIBRS_dataset['10']['County_Type'].unique()

NIBRS_dataset['26'].columns
 
## Percent cleared data isn't relevant for our research, removing those rows and updating headers

NIBRS_dataset['26']['Offenses Known/Percent Cleared'].unique()

NIBRS_dataset['26'][NIBRS_dataset['26']['Offenses Known/Percent Cleared'].isnull()]

NIBRS_dataset['26'] = NIBRS_dataset['26'][NIBRS_dataset['26']['Offenses Known/Percent Cleared'] != 'Percent cleared ']

NIBRS_dataset['26'] = NIBRS_dataset['26'][NIBRS_dataset['26']['Offenses Known/Percent Cleared'].notnull()]

NIBRS_dataset['26']['Offenses Known/Percent Cleared'].unique()

NIBRS_dataset['26'].rename(columns={'Geographic region/division': 'Region_Division', 'Offenses Known/Percent Cleared': 'Offenses Known', 'Violent\ncrime' : 'Violent_Crime', 'Murder and\nnonnegligent\nmanslaughter': 'Murder_and_Nonnegligent_Manslaughter', 'Aggravated\nassault': 'Aggravated_Assault', 'Property\ncrime': 'Property_Crime','Larceny-\ntheft': 'Larcency_Theft', 'Motor\nvehicle\ntheft': 'Motor_Vehicle_Theft', 'Arson1': 'Arson', 'Number \nof \nagencies' : 'Num_of_Agencies', '2023\nestimated \npopulation' : '2023_Est_Population'}, inplace=True)

NIBRS_dataset['26'].columns

NIBRS_dataset['26'].describe()

NIBRS_dataset['26']
 
## NEED TO FIGURE OUT HOW TO MOVE THE LOCATIONS INTO NEW COLUMN TO GROUP BY COLUMN A

NIBRS_dataset['26'].isnull().sum()

NIBRS_dataset['27'].describe()

NIBRS_dataset['27'].columns

NIBRS_dataset['27'].rename(columns={'Number of \nParticipating\nAgencies' : 'Num_of_Agencies', 'Population\nCovered': 'Population_Covered', 'Total \nOffenses' : 'Total_Offenses', 'Assault\nOffenses': 'Assault_Offenses', 'Homicide\nOffenses': 'Homicide_Offenses', 'Human\nTrafficking\nOffenses': 'Human_Trafficking_Offenses','Kidnapping/\nAbduction': 'Kidnapping/Abduction', 'Sex \nOffenses': 'Sex_Offenses'}, inplace=True)

NIBRS_dataset['27'].columns

NIBRS_dataset['27'].isnull().sum()

NIBRS_dataset['27']['State'].unique()
 
## This table has all the states with a capital leading letter and the rest lowercase; to keep uniform with other tables, changing to all uppercase letters. This also has a total line it appears, going to remove this to not skew and misrepresent data

NIBRS_dataset['27']['State'] = NIBRS_dataset['27']['State'].str.upper()
NIBRS_dataset['27']['State'].unique()

NIBRS_dataset['27'] = NIBRS_dataset['27'][NIBRS_dataset['27']['State'] != 'TOTAL']
NIBRS_dataset['27']['State'].unique()

NIBRS_dataset['27'].describe()

NIBRS_dataset['28'].isnull().sum()

NIBRS_dataset['28'].columns.unique()

NIBRS_dataset['28'].rename(columns={'Number of \nParticipating\nAgencies' : 'Num_of_Agencies', 'Population\nCovered': 'Population_Covered', 'Total \nOffenses' : 'Total_Offenses', 'Burglary/\nBreaking &\nEntering': 'Burglary/Breaking_&_Entering', 'Counterfeiting/\nForgery': 'Counterfeiting/Forgery', 'Destruction/\nDamage/\nVandalism': 'Destruction/Damage/Vandalism','Extortion/\nBlackmail': 'Extortion/Blackmail', 'Fraud \nOffenses': 'Fraud_Offenses', 'Larceny/\nTheft\nOffenses' : 'Larceny/Theft_Offenses', 'Motor\nVehicle\nTheft' : 'Motor_Vehicle_Theft', 'Stolen \nProperty \nOffenses' : 'Stolen_Property_Offenses'}, inplace=True)

NIBRS_dataset['28'].columns

NIBRS_dataset['28']['State'].unique()

NIBRS_dataset['28']['State'] = NIBRS_dataset['28']['State'].str.upper()
NIBRS_dataset['28'] = NIBRS_dataset['28'][NIBRS_dataset['28']['State'] != 'TOTAL']
NIBRS_dataset['28']['State'].unique()

NIBRS_dataset['28'].describe()

NIBRS_dataset['28'].head()

NIBRS_dataset['29'].isnull().sum()

NIBRS_dataset['29']['State'].unique()

NIBRS_dataset['29']['State'] = NIBRS_dataset['29']['State'].str.upper()
NIBRS_dataset['29'] = NIBRS_dataset['29'][NIBRS_dataset[('29')]['State'] != 'TOTAL']
NIBRS_dataset['29']['State'].unique()

NIBRS_dataset['29'].describe()

NIBRS_dataset['29'].columns

NIBRS_dataset['29'].rename(columns={'Number of \nParticipating\nAgencies' : 'Num_of_Agencies', 'Population\nCovered': 'Population_Covered', 'Total \nOffenses' : 'Total_Offenses', 'Animal \nCruelty': 'Animal_Cruelty', 'Drug/\nNarcotic\nOffenses': 'Drug/Narcotic_Offenses', 'Gambling\nOffenses': 'Gambling_Offenses','Pornography/\nObscene\nMaterial': 'Pornography/Obscene_Material', 'Prostitution\nOffenses': 'Prostitution_Offenses', 'Weapon \nLaw\nViolations' : 'Weapon_Law_Violations'}, inplace=True)

NIBRS_dataset['29'].columns

NIBRS_dataset['29'].head()

NIBRS_dataset['69'].describe()

NIBRS_dataset['69'].isnull().sum()

NIBRS_dataset['69'].head()
 
## Last two columns need to be copied down one row to match the row above (filled in for under 18, but not all ages); column two needs a name

NIBRS_dataset['69']['Number\nof\nagencies'] = NIBRS_dataset['69']['Number\nof\nagencies'].ffill()
NIBRS_dataset['69']['2023\nestimated \npopulation'] = NIBRS_dataset['69']['2023\nestimated \npopulation'].ffill()
NIBRS_dataset['69'].head(4)

NIBRS_dataset['69'].isnull().sum()

NIBRS_dataset['69'].columns

NIBRS_dataset['69'].rename(columns={'Unnamed: 1' : 'Age_Grouping', 'Total\nall \nclasses1': 'Total_All_Classes', 'Violent\ncrime2' : 'Violent_Crime', 'Property\ncrime2': 'Property_Crime', 'Murder and\nnonnegligent\nmanslaughter': 'Murder_and_Nonnegligent_Manslaughter', 'Aggravated\nassault': 'Aggravated_Assault','Larceny-\ntheft': 'Larceny-Theft', 'Motor\nvehicle\ntheft': 'Motor_Vehicle_Theft', 'Forgery and\ncounterfeiting' : 'Forgery_and_Counterfeiting', 'Stolen\nproperty;\nbuying,\nreceiving,\npossessing' : 'Stolen_Property; Buying_Receiving_Possessing', 'Weapons;\ncarrying,\npossessing,\netc.' : 'Weapons_Carrying_Possessing_Etc.', 'Prostitution and\ncommercialized\nvice' : 'Prostitution_and_Commercialized_Vice', 'Sex offenses\n(except\nrape and\nprostitution)' : 'Sex_Offenses_(except_rape_and_prostitution)', 'Drug \nabuse\nviolations' : 'Drug_Abuse_Violations', 'Offenses\nagainst\nthe family\nand\nchildren' : 'Offenses_Against_The_Family_And_Children', 'Driving\nunder the\ninfluence' : 'Drivin_Under_the_Influence','Liquor\nlaws' : 'Liquor_Laws','Drunkenness3' : 'Drunkenness','Disorderly\nconduct' : 'Disorderly_Conduct','All other\noffenses\n(except\ntraffic)' : 'All_Other_Offenses_(except_traffic)','Suspicion4' : 'Suspicion','Curfew\nand\nloitering\nlaw\nviolations' : 'Curfew_and_Loitering_Law_Violations','Number\nof\nagencies' : 'Number_of_Agencies','2023\nestimated \npopulation' : '2023_Estimated_Population'}, inplace=True)

NIBRS_dataset['69'].columns

NIBRS_dataset['69']['State'].unique()

NIBRS_dataset['76'].describe()

NIBRS_dataset['76'].isnull().sum()

NIBRS_dataset['76'].columns

NIBRS_dataset['76'].rename(columns={'Total law\nenforcement\nemployees' : 'Total_Law_Enforcement_Employees', ' Total \nofficers Male': 'Total_Officers_Male', ' Total \nofficers Female' : 'Total_Officers_Female', ' Total \ncivilians Male': 'Total_Civilians_Male', ' Total \ncivilians Female': 'Total_Civilians_Female'}, inplace=True)

NIBRS_dataset['76'].columns

NIBRS_dataset['76'].tail(6)

NIBRS_dataset['76']['State'].unique()

NIBRS_dataset['76'].replace('LOUISIANA1','LOUISIANA', inplace = True)
NIBRS_dataset['76']['State'].unique()

NIBRS_dataset['77'].describe()

NIBRS_dataset['77'].isnull().sum()

NIBRS_dataset['77'].columns

NIBRS_dataset['77'].rename(columns={'Total law\nenforcement\nemployees' : 'Total_Law_Enforcement_Employees', 'Total\nofficers Male' : 'Total_Officers_Male', 'Total\nofficers Female' : 'Total_Officers_Female', 'Total\ncivilians Male' : 'Total_Civilians_Male', 'Total\ncivilians Female' : 'Total_Civilians_Female', 'Number \nof \nagencies' : 'Num_of_Agencies', '2023\nestimated \npopulation' : '2023_Estimated_Population'}, inplace=True)

NIBRS_dataset['77'].columns

NIBRS_dataset['77'].head()

NIBRS_dataset['77']['State'].unique()

NIBRS_dataset['78'].describe()

NIBRS_dataset['78'].isnull().sum()

NIBRS_dataset['78'][NIBRS_dataset['78']['Population'].isnull()]

NIBRS_dataset['78'].rename(columns={'Total law\nenforcement\nemployees': 'Total_Law_Enforcement_Employees', 'Total \nofficers': 'Total_Officers', 'Total \ncivilians': 'Total_Civilians'}, inplace=True)

NIBRS_dataset['78'].columns

NIBRS_dataset['78'].head()

NIBRS_dataset['78']['State'].unique()

NIBRS_dataset['80'].describe()

NIBRS_dataset['80'].isnull().sum()

NIBRS_dataset['80'].rename(columns={'Total law\nenforcement\nemployees': 'Total_Law_Enforcement_Employees', 'Total\nofficers': 'Total_Officers', 'Total\ncivilians': 'Total_Civilians'}, inplace=True)

NIBRS_dataset['80'].columns

NIBRS_dataset['80']['State'].unique()

NIBRS_dataset['81'].describe()

NIBRS_dataset['80'].head()

NIBRS_dataset['80'][['State', 'County_Type']] = NIBRS_dataset['80']['State'].str.split('-', expand=True)

cols = list(NIBRS_dataset['80'].columns)
cols.remove('County_Type')

state_idx = cols.index('State')
cols.insert(state_idx + 1, 'County_Type')

NIBRS_dataset['80'] = NIBRS_dataset['80'][cols]
NIBRS_dataset['80'].head(2)

NIBRS_dataset['81'].isnull().sum()

NIBRS_dataset['81'].head(8)

NIBRS_dataset['81'][['State', 'Agency_Type']] = NIBRS_dataset['81']['State'].str.split('-', expand=True)

cols = list(NIBRS_dataset['81'].columns)
cols.remove('Agency_Type')

state_idx = cols.index('State')
cols.insert(state_idx + 1, 'Agency_Type')

NIBRS_dataset['81'] = NIBRS_dataset['81'][cols]
NIBRS_dataset['81'].head(2)

NIBRS_dataset['81']['State'].unique()

NIBRS_dataset['81'][NIBRS_dataset['81']['State'] == 'PUERTO RICO AND OTHER OUTLYING AREAS']

NIBRS_dataset['81'].at[1199, 'State'] = 'GUAM'
NIBRS_dataset['81'].at[1200, 'State'] = 'PUERTO RICO'
NIBRS_dataset['81'].at[1201, 'State'] = 'U.S. VIRGIN ISLANDS'
NIBRS_dataset['81'].at[1202, 'State'] = 'U.S. VIRGIN ISLANDS'

NIBRS_dataset['81'][NIBRS_dataset['81']['State'] == 'PUERTO RICO AND OTHER OUTLYING AREAS']

NIBRS_dataset['81'].loc[1199:1202]

NIBRS_dataset['81'].columns

NIBRS_dataset['81'].rename(columns={'Total law\nenforcement\nemployees' : 'Total_Law_Enforcement_Employees', 'Total\nofficers' : 'Total_Officers',
       'Total\ncivilians' : 'Total_Civilians'}, inplace=True)

NIBRS_dataset['81'].columns
 
## Add the FIPS code to the tables.

fips.head()
 
## Convert state names to uppercase to match other tables.f

fips['State'] = fips['State'].str.upper()
fips.head()
 
## Remove data that can't be used, such as Tribal due to lack of population records. Total up the counts to one row per state and remove the agency names, as well as civilian counts.

NIBRS_dataset['81'].head(10)

cleaned_81 = NIBRS_dataset['81'][~NIBRS_dataset['81']['State/Tribal/Other Agency'].str.contains('Tribal', case=False, na=False)]
cleaned_81.head(8)

cleaned_81 = cleaned_81.groupby('State')['Total_Officers'].sum().reset_index()
cleaned_81 = cleaned_81.rename(columns = {
    'Total_Officers' : 'State_Other_Total_Officers'})
cleaned_81.head()

fips_81 = fips.merge(cleaned_81, on = 'State', how = 'inner')
fips_81.head()
 
## Table 81 is now ready to be joined and utilized. Now table 76 needs to have the same process done, but excluding the Tribal agencies removal.

NIBRS_dataset['76'].head(6)

cleaned_76 = (NIBRS_dataset['76'].groupby('State')[['Total_Officers_Male', 'Total_Officers_Female']].sum().reset_index())
cleaned_76.head(5)
 
## Rename to keep information clear.

cleaned_76['Addt_Agencies_Total_Officers'] = cleaned_76['Total_Officers_Male'] + cleaned_76['Total_Officers_Female']
cleaned_76 = cleaned_76.rename(columns = {
    'Total_Officers_Male' : 'Addt_Agencies_Total_Officers_Male',
    'Total_Officers_Female' : 'Addt_Agencies_Total_Officers_Female'})
cleaned_76.head()

cleaned_76 = cleaned_76.drop(['Addt_Agencies_Total_Officers_Male', 'Addt_Agencies_Total_Officers_Female'], axis = 1)
cleaned_76.head()

fips_76 = fips.merge(cleaned_76, on = 'State', how = 'inner')
fips_76.head()

NIBRS_dataset['77'].head()

cleaned_77 = NIBRS_dataset['77'].copy()
cleaned_77.head()

cleaned_77.drop(['Total_Law_Enforcement_Employees','Total_Civilians_Male', 'Total_Civilians_Female', 'Num_of_Agencies'], axis = 1, inplace = True)
cleaned_77 = cleaned_77.rename(columns = {
    'Total_Officers_Male' : 'FT_Total_Officers_Male',
    'Total_Officers_Female' : 'FT_Total_Officers_Female'})
cleaned_77['FT_Total_Officers'] = cleaned_77['FT_Total_Officers_Male'] + cleaned_77['FT_Total_Officers_Female']
cleaned_77.head()

cleaned_77.drop(['FT_Total_Officers_Male', 'FT_Total_Officers_Female'], axis = 1, inplace = True)
cleaned_77.head()

cleaned_77.isnull().sum()

fips.isnull().sum()

fips_77 = fips.merge(cleaned_77, on = 'State', how = 'inner')
fips_77.head()

fips_77.isnull().sum()
 
## Put together tables looking at the officer data, then add FIPS.

Officer_Data_State = pd.merge(fips_76, fips_77, on = 'FIPS_ID', how = 'outer')
Officer_Data_State.head()

Officer_Data_State.isnull().sum()

Officer_Data_State[Officer_Data_State.isna().any(axis=1)]

fips_77[fips_77['State'].isin(['HAWAII', 'DISTRICT OF COLUMBIA'])]

fips_76[fips_76['State'].isin(['HAWAII', 'DISTRICT OF COLUMBIA'])]

Officer_Data_State['State_x'] = Officer_Data_State['State_x'].fillna(Officer_Data_State['State_y'])
Officer_Data_State[Officer_Data_State.isna().any(axis=1)]

Officer_Data_State.iloc[[8,11]]

Officer_Data_State = Officer_Data_State.merge(fips_81, on = 'FIPS_ID', how = 'outer')
Officer_Data_State.head()

Officer_Data_State.isnull().sum()

Officer_Data_State.drop(['State_y', 'State'], axis = 1, inplace = True)
Officer_Data_State = Officer_Data_State.rename(columns = {'State_x' : 'State'})
Officer_Data_State.head()

Officer_Data_State = Officer_Data_State[['FIPS_ID', 'State', '2023_Estimated_Population', 'Addt_Agencies_Total_Officers', 'FT_Total_Officers', 'State_Other_Total_Officers']]
Officer_Data_State.head()

Officer_Data_State.isnull().sum()

Officer_Data_State[Officer_Data_State.isna().any(axis=1)]

Officer_Data_State[['Addt_Agencies_Total_Officers', 'State_Other_Total_Officers']] = Officer_Data_State[['Addt_Agencies_Total_Officers', 'State_Other_Total_Officers']].fillna(0)
Officer_Data_State[Officer_Data_State.isna().any(axis=1)]
 
## FIBRS 76, 77 and 81 have now been joined together, with all NaN values addressed by replacing them with a zero. This table is now ready to be used for analysis regarding the number of officers per state. Next will be preparing the crime data tables.

cleaned_27 = NIBRS_dataset['27'].copy()
cleaned_27.head()

cleaned_27 = cleaned_27.drop(['Num_of_Agencies', 'Assault_Offenses', 'Homicide_Offenses', 'Human_Trafficking_Offenses', 'Kidnapping/Abduction', 'Sex_Offenses'], axis = 1)
cleaned_27 = cleaned_27.rename(columns = {
    'Total_Offenses' : 'Total_Offenses_Against_Persons'})
cleaned_27.head()

Crime_Data_State = fips.merge(cleaned_27, on = 'State', how = 'inner')
Crime_Data_State.head()

cleaned_28 = NIBRS_dataset['28'].copy()
cleaned_28.head()

cleaned_28 = cleaned_28.drop(['Num_of_Agencies', 'Arson', 'Bribery', 'Burglary/Breaking_&_Entering', 'Counterfeiting/Forgery', 'Destruction/Damage/Vandalism', 'Embezzlement', 'Extortion/Blackmail', 'Fraud_Offenses', 'Larceny/Theft_Offenses', 'Motor_Vehicle_Theft', 'Robbery', 'Stolen_Property_Offenses'], axis = 1)
cleaned_28 = cleaned_28.rename(columns = {'Total_Offenses' : 'Total_Property_Offenses'})
cleaned_28.head()

fips_28 = fips.merge(cleaned_28, on = 'State', how = 'inner')
fips_28.head()

Crime_Data_State = Crime_Data_State.merge(fips_28, on = 'FIPS_ID', how = 'outer')
Crime_Data_State.head()

Crime_Data_State.isnull().sum()

cleaned_29 = NIBRS_dataset['29'].copy()
cleaned_29.head()

cleaned_29 = cleaned_29.drop(['Num_of_Agencies', 'Animal_Cruelty', 'Drug/Narcotic_Offenses', 'Gambling_Offenses', 'Pornography/Obscene_Material', 'Prostitution_Offenses', 'Weapon_Law_Violations'], axis = 1)
cleaned_29 = cleaned_29.rename(columns = {'Total_Offenses' : 'Total_Societal_Offenses'})
cleaned_29.head()

fips_29 = fips.merge(cleaned_29, on = 'State', how = 'inner')
fips_29.head()

Crime_Data_State = Crime_Data_State.merge(fips_29, on = 'FIPS_ID', how = 'outer')
Crime_Data_State.head()

Crime_Data_State = Crime_Data_State.drop(['State_y', 'Population_Covered_y', 'State', 'Population_Covered'], axis = 1)
Crime_Data_State.head()

Crime_Data_State = Crime_Data_State.rename(columns = {'State_x' : 'State', 'Population_Covered_x' : 'Population_Covered'})
Crime_Data_State.head()

cleaned_69 = NIBRS_dataset['69'].copy()
cleaned_69.head()

cleaned_69 = cleaned_69[cleaned_69['Age_Grouping'] != 'Under 18']
cleaned_69.head(1)

cleaned_69.columns
 
## Total_All_Classes does not include traffic violations. Murder and nonneglient mansalughter, rape, robbery, and aggravated assult are counted under Violent Crimes; Offenses of burglary, motor vehicle theft, arson, and larceny-theft are counted under property crimes.

cleaned_69 = cleaned_69.drop(['Age_Grouping', 'Murder_and_Nonnegligent_Manslaughter', 'Rape', 'Robbery', 'Aggravated_Assault', 'Burglary', 'Larceny-Theft',
       'Motor_Vehicle_Theft', 'Arson'], axis = 1)
cleaned_69.head()

fips_69 = fips.merge(cleaned_69, on = 'State', how = 'inner')
fips_69.head()
 
## Join the crime and officer tables together.

Overall_Data = Officer_Data_State.merge(Crime_Data_State, on = 'FIPS_ID', how = 'outer')
Overall_Data.tail()
 
## Population sizes vary between the officer datasets and the crime datasets, due to different numbers of agencies reporting/lack of reporting for either or dataset. To best compare, we will use an average between the two to get a standard level for population.

Overall_Data = Overall_Data.rename(columns = {'State_x' : 'State'})
Overall_Data['Population'] = np.ceil(( Overall_Data['2023_Estimated_Population'] + Overall_Data['Population_Covered'] ) / 2 ).astype(int)
Overall_Data.head()

Overall_Data.shape

cols = Overall_Data.columns.tolist()
col_moving = cols.pop(11)
cols.insert(3, col_moving)
Overall_Data = Overall_Data[cols]
Overall_Data.head()

Overall_Data = Overall_Data.drop(['2023_Estimated_Population', 'Population_Covered', 'State_y'], axis = 1)
Overall_Data.head()

Summarized_Data = Overall_Data.copy()
Summarized_Data ['Total_Officers'] = (Summarized_Data ['Addt_Agencies_Total_Officers'] + Summarized_Data ['FT_Total_Officers'] + Summarized_Data ['State_Other_Total_Officers']).astype(int)
Summarized_Data = Summarized_Data.drop(['Addt_Agencies_Total_Officers', 'FT_Total_Officers', 'State_Other_Total_Officers'], axis = 1)
Summarized_Data.head()

Summarized_Data ['Total_Crime'] = (Summarized_Data ['Total_Offenses_Against_Persons'] + Summarized_Data ['Total_Property_Offenses'] + Summarized_Data ['Total_Societal_Offenses']).astype(int)
Summarized_Data = Summarized_Data.drop(['Total_Offenses_Against_Persons', 'Total_Property_Offenses', 'Total_Societal_Offenses'], axis = 1)
Summarized_Data.head()
 
## Save the ready to use tables to CSV files for analysis.

Crime_Data_State.to_csv("Crime_Data_State.csv", index = False)
Officer_Data_State.to_csv("Officer_Data_State.csv", index = False)
Overall_Data.to_csv("Overall_Data.csv", index = False)
Summarized_Data.to_csv("Summarized_Data.csv", index = False)
